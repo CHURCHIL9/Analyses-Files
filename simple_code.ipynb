{
 "cells": [
  {
   "cell_type": "code",
   "execution_count": 1,
   "metadata": {},
   "outputs": [
    {
     "name": "stdout",
     "output_type": "stream",
     "text": [
      "[220000.0, 273000.0, 387000.0]\n",
      "[240000.0, 297500.0, 337500.0]\n",
      "Total expectation fo carmel: 880000.0\n",
      "Total expectation for wisconsin: 875000.0\n"
     ]
    }
   ],
   "source": [
    "# Making a decision based on the expectation of the alternative options\n",
    "\n",
    "# compute the expected values \n",
    "carmel = [1100000,780000,860000]\n",
    "wisconsin = [1200000,850000,750000]\n",
    "p = [0.20,0.35,0.45]\n",
    "\n",
    "# carmel\n",
    "exp_carmel = []\n",
    "for c, p_i in zip(carmel, p):\n",
    "    exp_carmel.append(c * p_i)\n",
    "    \n",
    "# wisconsin\n",
    "exp_wisconsin = []\n",
    "for c, p_i in zip(wisconsin, p):\n",
    "    exp_wisconsin.append(c * p_i)\n",
    "    \n",
    "total_carmel = sum(exp_carmel)\n",
    "total_wisconsin = sum(exp_wisconsin)\n",
    "    \n",
    "print(exp_carmel)\n",
    "print(exp_wisconsin)\n",
    "\n",
    "print(f'Total expectation fo carmel: {total_carmel}')\n",
    "print(f'Total expectation for wisconsin: {total_wisconsin}')"
   ]
  },
  {
   "cell_type": "code",
   "execution_count": 2,
   "metadata": {},
   "outputs": [
    {
     "name": "stdout",
     "output_type": "stream",
     "text": [
      "[153000, 179000, 192000, 231000]\n",
      "[144000, 180000, 198000, 252000]\n"
     ]
    }
   ],
   "source": [
    "fc = 49000\n",
    "uc = 130\n",
    "pv = [800,1000,1100,1400]\n",
    "psu = 180\n",
    "\n",
    "ihmc = [fc + (uc * p) for p in pv]  # Calculate ihmc for each p in pv\n",
    "oc = [psu * p for p in pv]  # Calculate oc for each p in pv\n",
    "\n",
    "print(ihmc)\n",
    "print(oc)\n"
   ]
  }
 ],
 "metadata": {
  "kernelspec": {
   "display_name": ".venv",
   "language": "python",
   "name": "python3"
  },
  "language_info": {
   "codemirror_mode": {
    "name": "ipython",
    "version": 3
   },
   "file_extension": ".py",
   "mimetype": "text/x-python",
   "name": "python",
   "nbconvert_exporter": "python",
   "pygments_lexer": "ipython3",
   "version": "3.12.3"
  }
 },
 "nbformat": 4,
 "nbformat_minor": 2
}
