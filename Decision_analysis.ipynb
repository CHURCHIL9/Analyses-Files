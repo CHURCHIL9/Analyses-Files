{
 "cells": [
  {
   "cell_type": "markdown",
   "metadata": {},
   "source": [
    "# Decision Analysis "
   ]
  },
  {
   "cell_type": "markdown",
   "metadata": {},
   "source": [
    "Making a good decision depends on the assessment of the intangible factors and risk attitudes. "
   ]
  },
  {
   "cell_type": "markdown",
   "metadata": {},
   "source": [
    "Decision analysis focuses on how people make decisions, particularly when faced with uncertainties. "
   ]
  },
  {
   "cell_type": "markdown",
   "metadata": {},
   "source": [
    "Components of Decision Problems:\n",
    "1. Decision alternatives: Different course of action/options that a decision maker can choose from.\n",
    "\n",
    "2. Uncertain events: Events that may occur after a decision is made along with their possible outcomes.(states of nature).\n",
    "\n",
    "3. Payoffs: Consequences associated with each decision and outcome. They are summarized in a payoff table which is a matrix with rows representing the decisions and the columns corresponding to events."
   ]
  },
  {
   "cell_type": "markdown",
   "metadata": {},
   "source": [
    "### Example 1: Choice of a Mortgage Instrument"
   ]
  },
  {
   "cell_type": "markdown",
   "metadata": {},
   "source": [
    "A family is considering purchasing a new home and wants\n",
    "to finance $150,000. Three mortgage options are available\n",
    "and the payoff table for the outcomes is shown below. The\n",
    "payoffs represent total interest paid under three future\n",
    "interest rate situations."
   ]
  },
  {
   "cell_type": "code",
   "execution_count": 2,
   "metadata": {},
   "outputs": [
    {
     "data": {
      "text/html": [
       "<div>\n",
       "<style scoped>\n",
       "    .dataframe tbody tr th:only-of-type {\n",
       "        vertical-align: middle;\n",
       "    }\n",
       "\n",
       "    .dataframe tbody tr th {\n",
       "        vertical-align: top;\n",
       "    }\n",
       "\n",
       "    .dataframe thead th {\n",
       "        text-align: right;\n",
       "    }\n",
       "</style>\n",
       "<table border=\"1\" class=\"dataframe\">\n",
       "  <thead>\n",
       "    <tr style=\"text-align: right;\">\n",
       "      <th></th>\n",
       "      <th>Rates Rise($)</th>\n",
       "      <th>Rates Stable($)</th>\n",
       "      <th>Rates Fall($)</th>\n",
       "    </tr>\n",
       "    <tr>\n",
       "      <th>Decision</th>\n",
       "      <th></th>\n",
       "      <th></th>\n",
       "      <th></th>\n",
       "    </tr>\n",
       "  </thead>\n",
       "  <tbody>\n",
       "    <tr>\n",
       "      <th>1-year ARM</th>\n",
       "      <td>61134</td>\n",
       "      <td>46443</td>\n",
       "      <td>40161</td>\n",
       "    </tr>\n",
       "    <tr>\n",
       "      <th>3-year ARM</th>\n",
       "      <td>56901</td>\n",
       "      <td>51075</td>\n",
       "      <td>46721</td>\n",
       "    </tr>\n",
       "    <tr>\n",
       "      <th>30-year fixed</th>\n",
       "      <td>54654</td>\n",
       "      <td>54654</td>\n",
       "      <td>54654</td>\n",
       "    </tr>\n",
       "  </tbody>\n",
       "</table>\n",
       "</div>"
      ],
      "text/plain": [
       "               Rates Rise($)  Rates Stable($)  Rates Fall($)\n",
       "Decision                                                    \n",
       "1-year ARM             61134            46443          40161\n",
       "3-year ARM             56901            51075          46721\n",
       "30-year fixed          54654            54654          54654"
      ]
     },
     "execution_count": 2,
     "metadata": {},
     "output_type": "execute_result"
    }
   ],
   "source": [
    "import pandas as pd\n",
    "data = pd.DataFrame({\n",
    "    'Decision': ['1-year ARM','3-year ARM', '30-year fixed'],\n",
    "    'Rates Rise($)': [61134,56901,54654],\n",
    "    'Rates Stable($)': [46443,51075,54654],\n",
    "    'Rates Fall($)': [40161,46721,54654]\n",
    "})\n",
    "data.set_index('Decision', inplace=True)\n",
    "data"
   ]
  },
  {
   "cell_type": "markdown",
   "metadata": {},
   "source": [
    "The problem is to choose the best decision, considering risk."
   ]
  },
  {
   "cell_type": "markdown",
   "metadata": {},
   "source": [
    "## Decision Strategies"
   ]
  },
  {
   "cell_type": "markdown",
   "metadata": {},
   "source": [
    "### (Without Outcome Probabilities)"
   ]
  },
  {
   "cell_type": "markdown",
   "metadata": {},
   "source": [
    "When the objective is to minimize, the payoffs are costs."
   ]
  },
  {
   "cell_type": "markdown",
   "metadata": {},
   "source": [
    "1. Aggressive(Optimistic) Strategy: Choose the decision that minimizes the smallest payoff that\n",
    "can occur among all outcomes for each decision(minimin strategy)."
   ]
  },
  {
   "cell_type": "markdown",
   "metadata": {},
   "source": [
    "In the mortgage example, we determine the lowest payoff(interest cost) for each type of mortgage, and then choose the decision with the smallest value."
   ]
  },
  {
   "cell_type": "code",
   "execution_count": 3,
   "metadata": {},
   "outputs": [
    {
     "data": {
      "text/html": [
       "<style type=\"text/css\">\n",
       "#T_39826_row0_col2, #T_39826_row1_col2, #T_39826_row2_col2 {\n",
       "  background-color: blue;\n",
       "}\n",
       "#T_39826_row0_col3 {\n",
       "  background-color: red;\n",
       "}\n",
       "</style>\n",
       "<table id=\"T_39826\">\n",
       "  <thead>\n",
       "    <tr>\n",
       "      <th class=\"blank level0\" >&nbsp;</th>\n",
       "      <th id=\"T_39826_level0_col0\" class=\"col_heading level0 col0\" >Rates Rise($)</th>\n",
       "      <th id=\"T_39826_level0_col1\" class=\"col_heading level0 col1\" >Rates Stable($)</th>\n",
       "      <th id=\"T_39826_level0_col2\" class=\"col_heading level0 col2\" >Rates Fall($)</th>\n",
       "      <th id=\"T_39826_level0_col3\" class=\"col_heading level0 col3\" >Best Payoff($)</th>\n",
       "    </tr>\n",
       "    <tr>\n",
       "      <th class=\"index_name level0\" >Decision</th>\n",
       "      <th class=\"blank col0\" >&nbsp;</th>\n",
       "      <th class=\"blank col1\" >&nbsp;</th>\n",
       "      <th class=\"blank col2\" >&nbsp;</th>\n",
       "      <th class=\"blank col3\" >&nbsp;</th>\n",
       "    </tr>\n",
       "  </thead>\n",
       "  <tbody>\n",
       "    <tr>\n",
       "      <th id=\"T_39826_level0_row0\" class=\"row_heading level0 row0\" >1-year ARM</th>\n",
       "      <td id=\"T_39826_row0_col0\" class=\"data row0 col0\" >61134</td>\n",
       "      <td id=\"T_39826_row0_col1\" class=\"data row0 col1\" >46443</td>\n",
       "      <td id=\"T_39826_row0_col2\" class=\"data row0 col2\" >40161</td>\n",
       "      <td id=\"T_39826_row0_col3\" class=\"data row0 col3\" >40161</td>\n",
       "    </tr>\n",
       "    <tr>\n",
       "      <th id=\"T_39826_level0_row1\" class=\"row_heading level0 row1\" >3-year ARM</th>\n",
       "      <td id=\"T_39826_row1_col0\" class=\"data row1 col0\" >56901</td>\n",
       "      <td id=\"T_39826_row1_col1\" class=\"data row1 col1\" >51075</td>\n",
       "      <td id=\"T_39826_row1_col2\" class=\"data row1 col2\" >46721</td>\n",
       "      <td id=\"T_39826_row1_col3\" class=\"data row1 col3\" >46721</td>\n",
       "    </tr>\n",
       "    <tr>\n",
       "      <th id=\"T_39826_level0_row2\" class=\"row_heading level0 row2\" >30-year fixed</th>\n",
       "      <td id=\"T_39826_row2_col0\" class=\"data row2 col0\" >54654</td>\n",
       "      <td id=\"T_39826_row2_col1\" class=\"data row2 col1\" >54654</td>\n",
       "      <td id=\"T_39826_row2_col2\" class=\"data row2 col2\" >54654</td>\n",
       "      <td id=\"T_39826_row2_col3\" class=\"data row2 col3\" >54654</td>\n",
       "    </tr>\n",
       "  </tbody>\n",
       "</table>\n"
      ],
      "text/plain": [
       "<pandas.io.formats.style.Styler at 0x7a5725373bf0>"
      ]
     },
     "execution_count": 3,
     "metadata": {},
     "output_type": "execute_result"
    }
   ],
   "source": [
    "def highlight_col(col):\n",
    "    return ['background-color: blue' for _ in col]\n",
    "\n",
    "def highlight_min_col(val):\n",
    "    is_min = val == val.min()\n",
    "    return ['background-color: red' if v else '' for v in is_min]\n",
    "\n",
    "def highlight_all(data):\n",
    "    styles = pd.DataFrame('', index = data.index, columns=data.columns)\n",
    "    # apply blue background to column 'Rates Fall($)'\n",
    "    styles['Rates Fall($)'] = highlight_col(data['Rates Fall($)'])\n",
    "    # apply red background to the minimum value in column `Best Payoff($)`\n",
    "    styles['Best Payoff($)'] = highlight_min_col(data['Best Payoff($)'])\n",
    "    return styles\n",
    "\n",
    "\n",
    "# apply styles\n",
    "data['Best Payoff($)'] = [40161,46721,54654]\n",
    "data1 = data.style.apply(lambda x: highlight_all(data), axis=None)\n",
    "\n",
    "data1"
   ]
  },
  {
   "cell_type": "markdown",
   "metadata": {},
   "source": [
    "Recommendation:"
   ]
  },
  {
   "cell_type": "markdown",
   "metadata": {},
   "source": [
    "The 1-year Adjustable-Rate Mortgage(ARM) has the lowest best payoff ($40,161). If the family is optimistic that interest rates will fall, then the 1-year ARM option will cost them the least in interest payments. "
   ]
  },
  {
   "cell_type": "markdown",
   "metadata": {},
   "source": [
    "### 2. Conservative(Pessimistic)"
   ]
  },
  {
   "cell_type": "markdown",
   "metadata": {},
   "source": [
    "Strategy: Select the decision that minimizes the largest payoff that can occur among all outcomes for each decision(minimax)"
   ]
  },
  {
   "cell_type": "markdown",
   "metadata": {},
   "source": [
    "In the mortgage example, determine the largest payoff(interest cost) for each type of mortgage, then choose the decision with the smallest value."
   ]
  },
  {
   "cell_type": "code",
   "execution_count": 4,
   "metadata": {},
   "outputs": [
    {
     "data": {
      "text/html": [
       "<style type=\"text/css\">\n",
       "#T_6bcf7_row0_col0, #T_6bcf7_row1_col0, #T_6bcf7_row2_col0 {\n",
       "  background-color: blue;\n",
       "}\n",
       "#T_6bcf7_row2_col3 {\n",
       "  background-color: red;\n",
       "}\n",
       "</style>\n",
       "<table id=\"T_6bcf7\">\n",
       "  <thead>\n",
       "    <tr>\n",
       "      <th class=\"blank level0\" >&nbsp;</th>\n",
       "      <th id=\"T_6bcf7_level0_col0\" class=\"col_heading level0 col0\" >Rates Rise($)</th>\n",
       "      <th id=\"T_6bcf7_level0_col1\" class=\"col_heading level0 col1\" >Rates Stable($)</th>\n",
       "      <th id=\"T_6bcf7_level0_col2\" class=\"col_heading level0 col2\" >Rates Fall($)</th>\n",
       "      <th id=\"T_6bcf7_level0_col3\" class=\"col_heading level0 col3\" >Worst Payoff($)</th>\n",
       "    </tr>\n",
       "    <tr>\n",
       "      <th class=\"index_name level0\" >Decision</th>\n",
       "      <th class=\"blank col0\" >&nbsp;</th>\n",
       "      <th class=\"blank col1\" >&nbsp;</th>\n",
       "      <th class=\"blank col2\" >&nbsp;</th>\n",
       "      <th class=\"blank col3\" >&nbsp;</th>\n",
       "    </tr>\n",
       "  </thead>\n",
       "  <tbody>\n",
       "    <tr>\n",
       "      <th id=\"T_6bcf7_level0_row0\" class=\"row_heading level0 row0\" >1-year ARM</th>\n",
       "      <td id=\"T_6bcf7_row0_col0\" class=\"data row0 col0\" >61134</td>\n",
       "      <td id=\"T_6bcf7_row0_col1\" class=\"data row0 col1\" >46443</td>\n",
       "      <td id=\"T_6bcf7_row0_col2\" class=\"data row0 col2\" >40161</td>\n",
       "      <td id=\"T_6bcf7_row0_col3\" class=\"data row0 col3\" >61134</td>\n",
       "    </tr>\n",
       "    <tr>\n",
       "      <th id=\"T_6bcf7_level0_row1\" class=\"row_heading level0 row1\" >3-year ARM</th>\n",
       "      <td id=\"T_6bcf7_row1_col0\" class=\"data row1 col0\" >56901</td>\n",
       "      <td id=\"T_6bcf7_row1_col1\" class=\"data row1 col1\" >51075</td>\n",
       "      <td id=\"T_6bcf7_row1_col2\" class=\"data row1 col2\" >46721</td>\n",
       "      <td id=\"T_6bcf7_row1_col3\" class=\"data row1 col3\" >56901</td>\n",
       "    </tr>\n",
       "    <tr>\n",
       "      <th id=\"T_6bcf7_level0_row2\" class=\"row_heading level0 row2\" >30-year fixed</th>\n",
       "      <td id=\"T_6bcf7_row2_col0\" class=\"data row2 col0\" >54654</td>\n",
       "      <td id=\"T_6bcf7_row2_col1\" class=\"data row2 col1\" >54654</td>\n",
       "      <td id=\"T_6bcf7_row2_col2\" class=\"data row2 col2\" >54654</td>\n",
       "      <td id=\"T_6bcf7_row2_col3\" class=\"data row2 col3\" >54654</td>\n",
       "    </tr>\n",
       "  </tbody>\n",
       "</table>\n"
      ],
      "text/plain": [
       "<pandas.io.formats.style.Styler at 0x7a57387fbdd0>"
      ]
     },
     "execution_count": 4,
     "metadata": {},
     "output_type": "execute_result"
    }
   ],
   "source": [
    "def highlight_col(col):\n",
    "    return ['background-color: blue' for _ in col]\n",
    "\n",
    "def highlight_max_col(val):\n",
    "    is_max = val == val.min()\n",
    "    return ['background-color: red' if v else '' for v in is_max]\n",
    "\n",
    "def highlight_all(data):\n",
    "    styles = pd.DataFrame('', index = data.index, columns=data.columns)\n",
    "    # apply blue background to column 'Rates Fall($)'\n",
    "    styles['Rates Rise($)'] = highlight_col(data['Rates Rise($)'])\n",
    "    # apply red background to the minimum value in column `Best Payoff($)`\n",
    "    styles['Worst Payoff($)'] = highlight_min_col(data['Worst Payoff($)'])\n",
    "    return styles\n",
    "\n",
    "\n",
    "# apply styles\n",
    "data.drop(columns = ['Best Payoff($)'], inplace = True)\n",
    "data['Worst Payoff($)'] = [61134,56901,54654]\n",
    "data2 = data.style.apply(lambda x: highlight_all(data), axis=None)\n",
    "data2"
   ]
  },
  {
   "cell_type": "markdown",
   "metadata": {},
   "source": [
    "Recommendation:"
   ]
  },
  {
   "cell_type": "markdown",
   "metadata": {},
   "source": [
    "The 30-year fixed mortgage has the lowest worst payoff ($54,654). If the family is concerned about rising rates, this option will provide the highest level of predictability and protection from future rate increases. "
   ]
  },
  {
   "cell_type": "markdown",
   "metadata": {},
   "source": [
    "### 3. Opportunity Loss: "
   ]
  },
  {
   "cell_type": "markdown",
   "metadata": {},
   "source": [
    "The regret people feel after making a necessary decision. Choose the decision that minimizes the largest opportunity loss among all outcomes for each decision(minimax regret)"
   ]
  },
  {
   "cell_type": "markdown",
   "metadata": {},
   "source": [
    "Step 1: \n",
    "Determine the best outcome(minimum cost) in each column."
   ]
  },
  {
   "cell_type": "code",
   "execution_count": 5,
   "metadata": {},
   "outputs": [
    {
     "data": {
      "text/html": [
       "<style type=\"text/css\">\n",
       "#T_96156_row0_col1, #T_96156_row0_col2, #T_96156_row2_col0 {\n",
       "  background-color: blue;\n",
       "}\n",
       "</style>\n",
       "<table id=\"T_96156\">\n",
       "  <thead>\n",
       "    <tr>\n",
       "      <th class=\"blank level0\" >&nbsp;</th>\n",
       "      <th id=\"T_96156_level0_col0\" class=\"col_heading level0 col0\" >Rates Rise($)</th>\n",
       "      <th id=\"T_96156_level0_col1\" class=\"col_heading level0 col1\" >Rates Stable($)</th>\n",
       "      <th id=\"T_96156_level0_col2\" class=\"col_heading level0 col2\" >Rates Fall($)</th>\n",
       "    </tr>\n",
       "    <tr>\n",
       "      <th class=\"index_name level0\" >Decision</th>\n",
       "      <th class=\"blank col0\" >&nbsp;</th>\n",
       "      <th class=\"blank col1\" >&nbsp;</th>\n",
       "      <th class=\"blank col2\" >&nbsp;</th>\n",
       "    </tr>\n",
       "  </thead>\n",
       "  <tbody>\n",
       "    <tr>\n",
       "      <th id=\"T_96156_level0_row0\" class=\"row_heading level0 row0\" >1-year ARM</th>\n",
       "      <td id=\"T_96156_row0_col0\" class=\"data row0 col0\" >61134</td>\n",
       "      <td id=\"T_96156_row0_col1\" class=\"data row0 col1\" >46443</td>\n",
       "      <td id=\"T_96156_row0_col2\" class=\"data row0 col2\" >40161</td>\n",
       "    </tr>\n",
       "    <tr>\n",
       "      <th id=\"T_96156_level0_row1\" class=\"row_heading level0 row1\" >3-year ARM</th>\n",
       "      <td id=\"T_96156_row1_col0\" class=\"data row1 col0\" >56901</td>\n",
       "      <td id=\"T_96156_row1_col1\" class=\"data row1 col1\" >51075</td>\n",
       "      <td id=\"T_96156_row1_col2\" class=\"data row1 col2\" >46721</td>\n",
       "    </tr>\n",
       "    <tr>\n",
       "      <th id=\"T_96156_level0_row2\" class=\"row_heading level0 row2\" >30-year fixed</th>\n",
       "      <td id=\"T_96156_row2_col0\" class=\"data row2 col0\" >54654</td>\n",
       "      <td id=\"T_96156_row2_col1\" class=\"data row2 col1\" >54654</td>\n",
       "      <td id=\"T_96156_row2_col2\" class=\"data row2 col2\" >54654</td>\n",
       "    </tr>\n",
       "  </tbody>\n",
       "</table>\n"
      ],
      "text/plain": [
       "<pandas.io.formats.style.Styler at 0x7a572451bf50>"
      ]
     },
     "execution_count": 5,
     "metadata": {},
     "output_type": "execute_result"
    }
   ],
   "source": [
    "def highlight_min_col(val):\n",
    "    is_min = val == val.min()\n",
    "    return ['background-color: blue' if v else '' for v in is_min]\n",
    "data.drop(columns=['Worst Payoff($)'], inplace=True)\n",
    "data3 = data.style.apply(highlight_min_col, axis=0)\n",
    "data3"
   ]
  },
  {
   "cell_type": "markdown",
   "metadata": {},
   "source": [
    "Step 2: Subtract the determined value from each value in the column."
   ]
  },
  {
   "cell_type": "code",
   "execution_count": 6,
   "metadata": {},
   "outputs": [
    {
     "data": {
      "text/html": [
       "<div>\n",
       "<style scoped>\n",
       "    .dataframe tbody tr th:only-of-type {\n",
       "        vertical-align: middle;\n",
       "    }\n",
       "\n",
       "    .dataframe tbody tr th {\n",
       "        vertical-align: top;\n",
       "    }\n",
       "\n",
       "    .dataframe thead th {\n",
       "        text-align: right;\n",
       "    }\n",
       "</style>\n",
       "<table border=\"1\" class=\"dataframe\">\n",
       "  <thead>\n",
       "    <tr style=\"text-align: right;\">\n",
       "      <th></th>\n",
       "      <th>Rates Rise($)</th>\n",
       "      <th>Rates Stable($)</th>\n",
       "      <th>Rates Fall($)</th>\n",
       "    </tr>\n",
       "    <tr>\n",
       "      <th>Decision</th>\n",
       "      <th></th>\n",
       "      <th></th>\n",
       "      <th></th>\n",
       "    </tr>\n",
       "  </thead>\n",
       "  <tbody>\n",
       "    <tr>\n",
       "      <th>1-year ARM</th>\n",
       "      <td>6480</td>\n",
       "      <td>0</td>\n",
       "      <td>0</td>\n",
       "    </tr>\n",
       "    <tr>\n",
       "      <th>3-year ARM</th>\n",
       "      <td>2247</td>\n",
       "      <td>4632</td>\n",
       "      <td>6560</td>\n",
       "    </tr>\n",
       "    <tr>\n",
       "      <th>30-year fixed</th>\n",
       "      <td>0</td>\n",
       "      <td>8211</td>\n",
       "      <td>14493</td>\n",
       "    </tr>\n",
       "  </tbody>\n",
       "</table>\n",
       "</div>"
      ],
      "text/plain": [
       "               Rates Rise($)  Rates Stable($)  Rates Fall($)\n",
       "Decision                                                    \n",
       "1-year ARM              6480                0              0\n",
       "3-year ARM              2247             4632           6560\n",
       "30-year fixed              0             8211          14493"
      ]
     },
     "execution_count": 6,
     "metadata": {},
     "output_type": "execute_result"
    }
   ],
   "source": [
    "def subtract_val(df):\n",
    "    data4 = data.copy()\n",
    "    \n",
    "    # Iterate over each column in the DataFrame\n",
    "    for column in data4.columns:\n",
    "        # Find the minimum value in the column\n",
    "        min_val = data4[column].min()\n",
    "        # Subtract the minimum value from every entry in the column\n",
    "        data4[column] = data4[column] - min_val\n",
    "    \n",
    "    return data4\n",
    "\n",
    "# Apply the function\n",
    "result = pd.DataFrame(subtract_val(data))\n",
    "\n",
    "result\n"
   ]
  },
  {
   "cell_type": "markdown",
   "metadata": {},
   "source": [
    "Step 3: Determine the maximum opportunity loss for each decision, and then choose the decision with the smallest of these."
   ]
  },
  {
   "cell_type": "code",
   "execution_count": 7,
   "metadata": {},
   "outputs": [
    {
     "data": {
      "text/html": [
       "<style type=\"text/css\">\n",
       "#T_217b5_row0_col0, #T_217b5_row1_col2, #T_217b5_row2_col2 {\n",
       "  background-color: blue;\n",
       "}\n",
       "#T_217b5_row0_col3 {\n",
       "  background-color: red;\n",
       "}\n",
       "</style>\n",
       "<table id=\"T_217b5\">\n",
       "  <thead>\n",
       "    <tr>\n",
       "      <th class=\"blank level0\" >&nbsp;</th>\n",
       "      <th id=\"T_217b5_level0_col0\" class=\"col_heading level0 col0\" >Rates Rise($)</th>\n",
       "      <th id=\"T_217b5_level0_col1\" class=\"col_heading level0 col1\" >Rates Stable($)</th>\n",
       "      <th id=\"T_217b5_level0_col2\" class=\"col_heading level0 col2\" >Rates Fall($)</th>\n",
       "      <th id=\"T_217b5_level0_col3\" class=\"col_heading level0 col3\" >Max Opportunity Loss</th>\n",
       "    </tr>\n",
       "    <tr>\n",
       "      <th class=\"index_name level0\" >Decision</th>\n",
       "      <th class=\"blank col0\" >&nbsp;</th>\n",
       "      <th class=\"blank col1\" >&nbsp;</th>\n",
       "      <th class=\"blank col2\" >&nbsp;</th>\n",
       "      <th class=\"blank col3\" >&nbsp;</th>\n",
       "    </tr>\n",
       "  </thead>\n",
       "  <tbody>\n",
       "    <tr>\n",
       "      <th id=\"T_217b5_level0_row0\" class=\"row_heading level0 row0\" >1-year ARM</th>\n",
       "      <td id=\"T_217b5_row0_col0\" class=\"data row0 col0\" >6480</td>\n",
       "      <td id=\"T_217b5_row0_col1\" class=\"data row0 col1\" >0</td>\n",
       "      <td id=\"T_217b5_row0_col2\" class=\"data row0 col2\" >0</td>\n",
       "      <td id=\"T_217b5_row0_col3\" class=\"data row0 col3\" >6480</td>\n",
       "    </tr>\n",
       "    <tr>\n",
       "      <th id=\"T_217b5_level0_row1\" class=\"row_heading level0 row1\" >3-year ARM</th>\n",
       "      <td id=\"T_217b5_row1_col0\" class=\"data row1 col0\" >2247</td>\n",
       "      <td id=\"T_217b5_row1_col1\" class=\"data row1 col1\" >4632</td>\n",
       "      <td id=\"T_217b5_row1_col2\" class=\"data row1 col2\" >6560</td>\n",
       "      <td id=\"T_217b5_row1_col3\" class=\"data row1 col3\" >6560</td>\n",
       "    </tr>\n",
       "    <tr>\n",
       "      <th id=\"T_217b5_level0_row2\" class=\"row_heading level0 row2\" >30-year fixed</th>\n",
       "      <td id=\"T_217b5_row2_col0\" class=\"data row2 col0\" >0</td>\n",
       "      <td id=\"T_217b5_row2_col1\" class=\"data row2 col1\" >8211</td>\n",
       "      <td id=\"T_217b5_row2_col2\" class=\"data row2 col2\" >14493</td>\n",
       "      <td id=\"T_217b5_row2_col3\" class=\"data row2 col3\" >14493</td>\n",
       "    </tr>\n",
       "  </tbody>\n",
       "</table>\n"
      ],
      "text/plain": [
       "<pandas.io.formats.style.Styler at 0x7a57188dd640>"
      ]
     },
     "execution_count": 7,
     "metadata": {},
     "output_type": "execute_result"
    }
   ],
   "source": [
    "import pandas as pd\n",
    "\n",
    "def highlight_max_row(row):\n",
    "    is_max = row == row.max()\n",
    "    return ['background-color: blue' if v else '' for v in is_max]\n",
    "\n",
    "def highlight_min_col(val):\n",
    "    is_min = val == val.min()\n",
    "    return ['background-color: red' if v else '' for v in is_min]\n",
    "\n",
    "def highlight_all(data):\n",
    "    styles = pd.DataFrame('', index=data.index, columns=data.columns)\n",
    "    \n",
    "    # Apply red background to the minimum value in the last column\n",
    "    last_column = data.columns[-1]\n",
    "    styles[last_column] = highlight_min_col(data[last_column])\n",
    "    \n",
    "    # Apply blue background to the maximum values row-wise in all columns except the last one\n",
    "    for idx in data.index:\n",
    "        styles.loc[idx, data.columns[:-1]] = highlight_max_row(data.loc[idx, data.columns[:-1]])\n",
    "    \n",
    "    return styles\n",
    "\n",
    "# Apply\n",
    "result['Max Opportunity Loss'] = [6480,6560,14493]\n",
    "data5 = result.style.apply(lambda x: highlight_all(result), axis=None)\n",
    "data5\n"
   ]
  },
  {
   "cell_type": "markdown",
   "metadata": {},
   "source": [
    "The 1-year ARM has the smallest maximum regret($6,480). This strategy minimizes the the potential future regret in interest rates. The 1-year ARM option ensures that the family will not be too far off from the least costly option."
   ]
  },
  {
   "cell_type": "markdown",
   "metadata": {},
   "source": [
    "# Risk Evaluation"
   ]
  },
  {
   "cell_type": "code",
   "execution_count": 20,
   "metadata": {},
   "outputs": [
    {
     "data": {
      "text/plain": [
       "Decision\n",
       "1-year ARM       10763.795288\n",
       "3-year ARM        5107.706465\n",
       "30-year fixed        0.000000\n",
       "Name: Amount, dtype: float64"
      ]
     },
     "execution_count": 20,
     "metadata": {},
     "output_type": "execute_result"
    }
   ],
   "source": [
    "# Melt the DataFrame to long format\n",
    "data6 = pd.melt(data, id_vars=['Decision'], var_name='Rate Type', value_name='Amount')\n",
    "data6.groupby('Decision')['Amount'].std()"
   ]
  },
  {
   "cell_type": "markdown",
   "metadata": {},
   "source": [
    "Based on the standard deviation, the 30-year fixed mortgage has no risk at all, whereas the 1-year ARM appears to be the riskiest. "
   ]
  },
  {
   "cell_type": "markdown",
   "metadata": {},
   "source": [
    "The 3-year ARM has moderate risk level and potential upside at stable and falling interest rates."
   ]
  },
  {
   "cell_type": "markdown",
   "metadata": {},
   "source": [
    "**Prepared by: Churchil Omondi**"
   ]
  }
 ],
 "metadata": {
  "kernelspec": {
   "display_name": ".venv",
   "language": "python",
   "name": "python3"
  },
  "language_info": {
   "codemirror_mode": {
    "name": "ipython",
    "version": 3
   },
   "file_extension": ".py",
   "mimetype": "text/x-python",
   "name": "python",
   "nbconvert_exporter": "python",
   "pygments_lexer": "ipython3",
   "version": "3.12.3"
  }
 },
 "nbformat": 4,
 "nbformat_minor": 2
}
# Decision-Analysis-1
